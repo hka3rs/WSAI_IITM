{
 "cells": [
  {
   "cell_type": "markdown",
   "id": "53baba73",
   "metadata": {},
   "source": [
    "### Bank Term Deposit Subscription Prediction\n",
    "### Team 9 : Srinivas, Ravi\n",
    "### LTC - IIT M Batch 1 - Sep 2025"
   ]
  },
  {
   "cell_type": "code",
   "execution_count": 3,
   "id": "132cf2e8",
   "metadata": {},
   "outputs": [
    {
     "name": "stdout",
     "output_type": "stream",
     "text": [
      "   id  age          job  marital  education default  balance housing loan  \\\n",
      "0   0   42   technician  married  secondary      no        7      no   no   \n",
      "1   1   38  blue-collar  married  secondary      no      514      no   no   \n",
      "2   2   36  blue-collar  married  secondary      no      602     yes   no   \n",
      "3   3   27      student   single  secondary      no       34     yes   no   \n",
      "4   4   26   technician  married  secondary      no      889     yes   no   \n",
      "\n",
      "    contact  day month  duration  campaign  pdays  previous poutcome  y  \n",
      "0  cellular   25   aug       117         3     -1         0  unknown  0  \n",
      "1   unknown   18   jun       185         1     -1         0  unknown  0  \n",
      "2   unknown   14   may       111         2     -1         0  unknown  0  \n",
      "3   unknown   28   may        10         2     -1         0  unknown  0  \n",
      "4  cellular    3   feb       902         1     -1         0  unknown  1  \n",
      "       id  age            job  marital  education default  balance housing  \\\n",
      "0  750000   32    blue-collar  married  secondary      no     1397     yes   \n",
      "1  750001   44     management  married   tertiary      no       23     yes   \n",
      "2  750002   36  self-employed  married    primary      no       46     yes   \n",
      "3  750003   58    blue-collar  married  secondary      no    -1380     yes   \n",
      "4  750004   28     technician   single  secondary      no     1950     yes   \n",
      "\n",
      "  loan   contact  day month  duration  campaign  pdays  previous poutcome  \n",
      "0   no   unknown   21   may       224         1     -1         0  unknown  \n",
      "1   no  cellular    3   apr       586         2     -1         0  unknown  \n",
      "2  yes  cellular   13   may       111         2     -1         0  unknown  \n",
      "3  yes   unknown   29   may       125         1     -1         0  unknown  \n",
      "4   no  cellular   22   jul       181         1     -1         0  unknown  \n"
     ]
    }
   ],
   "source": [
    "#Load the synthetic data set from the P5S8 challenge\n",
    "import pandas as pd\n",
    "import numpy as np\n",
    "import matplotlib.pyplot as plt\n",
    "from sklearn.model_selection import train_test_split\n",
    "\n",
    "# Load the dataset\n",
    "train_syndata = pd.read_csv('./playground-series-s5e8/train.csv')\n",
    "test_syndata = pd.read_csv('./playground-series-s5e8/test.csv')\n",
    "\n",
    "# Display the first few rows of the training data\n",
    "print(train_syndata.head())\n",
    "# Display the first few rows of the test data\n",
    "print(test_syndata.head())\n",
    "\n",
    "\n"
   ]
  },
  {
   "cell_type": "code",
   "execution_count": 4,
   "id": "1e13d77c",
   "metadata": {},
   "outputs": [
    {
     "name": "stdout",
     "output_type": "stream",
     "text": [
      "   age           job  marital  education default  balance housing loan  \\\n",
      "0   58    management  married   tertiary      no     2143     yes   no   \n",
      "1   44    technician   single  secondary      no       29     yes   no   \n",
      "2   33  entrepreneur  married  secondary      no        2     yes  yes   \n",
      "3   47   blue-collar  married    unknown      no     1506     yes   no   \n",
      "4   33       unknown   single    unknown      no        1      no   no   \n",
      "\n",
      "   contact  day month  duration  campaign  pdays  previous poutcome   y  \n",
      "0  unknown    5   may       261         1     -1         0  unknown  no  \n",
      "1  unknown    5   may       151         1     -1         0  unknown  no  \n",
      "2  unknown    5   may        76         1     -1         0  unknown  no  \n",
      "3  unknown    5   may        92         1     -1         0  unknown  no  \n",
      "4  unknown    5   may       198         1     -1         0  unknown  no  \n"
     ]
    }
   ],
   "source": [
    "#Load the real data set from the P5S8 channelnge\n",
    "fulldata = pd.read_csv('./archive/bank-full.csv', sep=';')\n",
    "print(fulldata.head())   "
   ]
  },
  {
   "cell_type": "markdown",
   "id": "d98c1ed7",
   "metadata": {},
   "source": [
    "####  1. Data Understanding & Exploration\n",
    "####  Load both datasets and explore:– Feature types (categorical, numerical) – Missing values – Target distribution"
   ]
  },
  {
   "cell_type": "code",
   "execution_count": 5,
   "id": "21d06ea5",
   "metadata": {},
   "outputs": [
    {
     "name": "stdout",
     "output_type": "stream",
     "text": [
      "Training Data Columns: and shape Index(['id', 'age', 'job', 'marital', 'education', 'default', 'balance',\n",
      "       'housing', 'loan', 'contact', 'day', 'month', 'duration', 'campaign',\n",
      "       'pdays', 'previous', 'poutcome', 'y'],\n",
      "      dtype='object') (750000, 18)\n",
      "Test Data Columns: and shape Index(['id', 'age', 'job', 'marital', 'education', 'default', 'balance',\n",
      "       'housing', 'loan', 'contact', 'day', 'month', 'duration', 'campaign',\n",
      "       'pdays', 'previous', 'poutcome'],\n",
      "      dtype='object') (250000, 17)\n",
      "Full Data Columns: and shape Index(['age', 'job', 'marital', 'education', 'default', 'balance', 'housing',\n",
      "       'loan', 'contact', 'day', 'month', 'duration', 'campaign', 'pdays',\n",
      "       'previous', 'poutcome', 'y'],\n",
      "      dtype='object') (45211, 17)\n"
     ]
    }
   ],
   "source": [
    "# Find the the number and names of the columns in both datasets\n",
    "print(\"Training Data Columns: and shape\", train_syndata.columns, train_syndata.shape)\n",
    "print(\"Test Data Columns: and shape\", test_syndata.columns, test_syndata.shape)\n",
    "print(\"Full Data Columns: and shape\", fulldata.columns, fulldata.shape)"
   ]
  },
  {
   "cell_type": "markdown",
   "id": "92b4bb22",
   "metadata": {},
   "source": [
    " Synthetic dataset: Available in the competition’s Dataset Link. Train and Test\n",
    " dataset are given. You can combine both the dataset for training\n",
    " • Test Dataset: extract 20 % of dataset from Real Dataset for testing the prediction\n",
    " accuracy of your model."
   ]
  },
  {
   "cell_type": "code",
   "execution_count": 6,
   "id": "7ece9bb1",
   "metadata": {},
   "outputs": [
    {
     "name": "stdout",
     "output_type": "stream",
     "text": [
      "Mode of 'y' in training data: 0    0\n",
      "Name: y, dtype: int64\n",
      "Combined Synthetic Data shape: (1000000, 18)\n"
     ]
    }
   ],
   "source": [
    "# Now we need to combine the Train and Test to make it a single training data set\n",
    "# The outcome variable 'y' is not present in the test data, so we will add a placeholder column for it\n",
    "# Since the test data does not have 'y', we will fill it with mode of the train data 'y' column\n",
    "print(\"Mode of 'y' in training data:\", train_syndata['y'].mode())\n",
    "test_syndata['y'] = train_syndata['y'].mode()[0]  # Add a placeholder column for 'y' in the test set\n",
    "\n",
    "# Combine the training and test datasets\n",
    "syndata = pd.concat([train_syndata, test_syndata], ignore_index=True)\n",
    "print(\"Combined Synthetic Data shape:\", syndata.shape)"
   ]
  },
  {
   "cell_type": "code",
   "execution_count": 7,
   "id": "38a362a0",
   "metadata": {},
   "outputs": [
    {
     "name": "stdout",
     "output_type": "stream",
     "text": [
      "Test Full Data shape: (9043, 17)\n"
     ]
    }
   ],
   "source": [
    "# Take 20% of the full data as test set\n",
    "_, test_fulldata = train_test_split(fulldata, test_size=0.2, random_state=42)\n",
    "print(\"Test Full Data shape:\", test_fulldata.shape)"
   ]
  },
  {
   "cell_type": "code",
   "execution_count": 8,
   "id": "1034efa6",
   "metadata": {},
   "outputs": [
    {
     "name": "stdout",
     "output_type": "stream",
     "text": [
      "Synthetic Data Types:\n",
      " id            int64\n",
      "age           int64\n",
      "job          object\n",
      "marital      object\n",
      "education    object\n",
      "default      object\n",
      "balance       int64\n",
      "housing      object\n",
      "loan         object\n",
      "contact      object\n",
      "day           int64\n",
      "month        object\n",
      "duration      int64\n",
      "campaign      int64\n",
      "pdays         int64\n",
      "previous      int64\n",
      "poutcome     object\n",
      "y             int64\n",
      "dtype: object\n",
      "Full Data Types:\n",
      " age           int64\n",
      "job          object\n",
      "marital      object\n",
      "education    object\n",
      "default      object\n",
      "balance       int64\n",
      "housing      object\n",
      "loan         object\n",
      "contact      object\n",
      "day           int64\n",
      "month        object\n",
      "duration      int64\n",
      "campaign      int64\n",
      "pdays         int64\n",
      "previous      int64\n",
      "poutcome     object\n",
      "y            object\n",
      "dtype: object\n"
     ]
    }
   ],
   "source": [
    "# Compare the feature types of both datasets\n",
    "print(\"Synthetic Data Types:\\n\", syndata.dtypes)\n",
    "print(\"Full Data Types:\\n\", fulldata.dtypes)"
   ]
  }
 ],
 "metadata": {
  "kernelspec": {
   "display_name": "base",
   "language": "python",
   "name": "python3"
  },
  "language_info": {
   "codemirror_mode": {
    "name": "ipython",
    "version": 3
   },
   "file_extension": ".py",
   "mimetype": "text/x-python",
   "name": "python",
   "nbconvert_exporter": "python",
   "pygments_lexer": "ipython3",
   "version": "3.12.7"
  }
 },
 "nbformat": 4,
 "nbformat_minor": 5
}
