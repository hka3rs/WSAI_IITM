{
 "cells": [
  {
   "cell_type": "markdown",
   "id": "53baba73",
   "metadata": {},
   "source": [
    "### Bank Term Deposit Subscription Prediction\n",
    "### Team 9 : Srinivas, Ravi\n",
    "### LTC - IIT M Batch 1 - Sep 2025"
   ]
  },
  {
   "cell_type": "code",
   "execution_count": 1,
   "id": "132cf2e8",
   "metadata": {},
   "outputs": [
    {
     "name": "stdout",
     "output_type": "stream",
     "text": [
      "   id  age          job  marital  education default  balance housing loan  \\\n",
      "0   0   42   technician  married  secondary      no        7      no   no   \n",
      "1   1   38  blue-collar  married  secondary      no      514      no   no   \n",
      "2   2   36  blue-collar  married  secondary      no      602     yes   no   \n",
      "3   3   27      student   single  secondary      no       34     yes   no   \n",
      "4   4   26   technician  married  secondary      no      889     yes   no   \n",
      "\n",
      "    contact  day month  duration  campaign  pdays  previous poutcome  y  \n",
      "0  cellular   25   aug       117         3     -1         0  unknown  0  \n",
      "1   unknown   18   jun       185         1     -1         0  unknown  0  \n",
      "2   unknown   14   may       111         2     -1         0  unknown  0  \n",
      "3   unknown   28   may        10         2     -1         0  unknown  0  \n",
      "4  cellular    3   feb       902         1     -1         0  unknown  1  \n",
      "       id  age            job  marital  education default  balance housing  \\\n",
      "0  750000   32    blue-collar  married  secondary      no     1397     yes   \n",
      "1  750001   44     management  married   tertiary      no       23     yes   \n",
      "2  750002   36  self-employed  married    primary      no       46     yes   \n",
      "3  750003   58    blue-collar  married  secondary      no    -1380     yes   \n",
      "4  750004   28     technician   single  secondary      no     1950     yes   \n",
      "\n",
      "  loan   contact  day month  duration  campaign  pdays  previous poutcome  \n",
      "0   no   unknown   21   may       224         1     -1         0  unknown  \n",
      "1   no  cellular    3   apr       586         2     -1         0  unknown  \n",
      "2  yes  cellular   13   may       111         2     -1         0  unknown  \n",
      "3  yes   unknown   29   may       125         1     -1         0  unknown  \n",
      "4   no  cellular   22   jul       181         1     -1         0  unknown  \n"
     ]
    }
   ],
   "source": [
    "#Load the synthetic data set from the P5S8 challenge\n",
    "import pandas as pd\n",
    "import numpy as np\n",
    "import matplotlib.pyplot as plt\n",
    "from sklearn.model_selection import train_test_split\n",
    "\n",
    "# Load the dataset\n",
    "train_syndata = pd.read_csv('./playground-series-s5e8/train.csv')\n",
    "test_syndata = pd.read_csv('./playground-series-s5e8/test.csv')\n",
    "\n",
    "# Display the first few rows of the training data\n",
    "print(train_syndata.head())\n",
    "# Display the first few rows of the test data\n",
    "print(test_syndata.head())\n",
    "\n",
    "\n"
   ]
  },
  {
   "cell_type": "code",
   "execution_count": 2,
   "id": "1e13d77c",
   "metadata": {},
   "outputs": [
    {
     "name": "stdout",
     "output_type": "stream",
     "text": [
      "   age           job  marital  education default  balance housing loan  \\\n",
      "0   58    management  married   tertiary      no     2143     yes   no   \n",
      "1   44    technician   single  secondary      no       29     yes   no   \n",
      "2   33  entrepreneur  married  secondary      no        2     yes  yes   \n",
      "3   47   blue-collar  married    unknown      no     1506     yes   no   \n",
      "4   33       unknown   single    unknown      no        1      no   no   \n",
      "\n",
      "   contact  day month  duration  campaign  pdays  previous poutcome   y  \n",
      "0  unknown    5   may       261         1     -1         0  unknown  no  \n",
      "1  unknown    5   may       151         1     -1         0  unknown  no  \n",
      "2  unknown    5   may        76         1     -1         0  unknown  no  \n",
      "3  unknown    5   may        92         1     -1         0  unknown  no  \n",
      "4  unknown    5   may       198         1     -1         0  unknown  no  \n"
     ]
    }
   ],
   "source": [
    "#Load the real data set from the P5S8 channelnge\n",
    "fulldata = pd.read_csv('./archive/bank-full.csv', sep=';')\n",
    "print(fulldata.head())   "
   ]
  },
  {
   "cell_type": "markdown",
   "id": "d98c1ed7",
   "metadata": {},
   "source": [
    "####  1. Data Understanding & Exploration\n",
    "####  Load both datasets and explore:– Feature types (categorical, numerical) – Missing values – Target distribution"
   ]
  },
  {
   "cell_type": "code",
   "execution_count": 3,
   "id": "21d06ea5",
   "metadata": {},
   "outputs": [
    {
     "name": "stdout",
     "output_type": "stream",
     "text": [
      "Training Data Columns: and shape Index(['id', 'age', 'job', 'marital', 'education', 'default', 'balance',\n",
      "       'housing', 'loan', 'contact', 'day', 'month', 'duration', 'campaign',\n",
      "       'pdays', 'previous', 'poutcome', 'y'],\n",
      "      dtype='object') (750000, 18)\n",
      "Test Data Columns: and shape Index(['id', 'age', 'job', 'marital', 'education', 'default', 'balance',\n",
      "       'housing', 'loan', 'contact', 'day', 'month', 'duration', 'campaign',\n",
      "       'pdays', 'previous', 'poutcome'],\n",
      "      dtype='object') (250000, 17)\n",
      "Full Data Columns: and shape Index(['age', 'job', 'marital', 'education', 'default', 'balance', 'housing',\n",
      "       'loan', 'contact', 'day', 'month', 'duration', 'campaign', 'pdays',\n",
      "       'previous', 'poutcome', 'y'],\n",
      "      dtype='object') (45211, 17)\n"
     ]
    }
   ],
   "source": [
    "# Find the the number and names of the columns in both datasets\n",
    "print(\"Training Data Columns: and shape\", train_syndata.columns, train_syndata.shape)\n",
    "print(\"Test Data Columns: and shape\", test_syndata.columns, test_syndata.shape)\n",
    "print(\"Full Data Columns: and shape\", fulldata.columns, fulldata.shape)"
   ]
  },
  {
   "cell_type": "markdown",
   "id": "92b4bb22",
   "metadata": {},
   "source": [
    " Synthetic dataset: Available in the competition’s Dataset Link. Train and Test\n",
    " dataset are given. You can combine both the dataset for training\n",
    " • Test Dataset: extract 20 % of dataset from Real Dataset for testing the prediction\n",
    " accuracy of your model."
   ]
  },
  {
   "cell_type": "code",
   "execution_count": 15,
   "id": "7ece9bb1",
   "metadata": {},
   "outputs": [
    {
     "name": "stdout",
     "output_type": "stream",
     "text": [
      "Mode of 'y' in training data: 0    0\n",
      "Name: y, dtype: int64\n",
      "Combined Synthetic Data shape: (1000000, 18)\n"
     ]
    }
   ],
   "source": [
    "# Now we need to combine the Train and Test to make it a single training data set\n",
    "# The outcome variable 'y' is not present in the test data, so we will add a placeholder column for it\n",
    "# Since the test data does not have 'y', we will fill it with mode of the train data 'y' column\n",
    "print(\"Mode of 'y' in training data:\", train_syndata['y'].mode())\n",
    "test_syndata['y'] = train_syndata['y'].mode()[0]  # Add a placeholder column for 'y' in the test set\n",
    "\n",
    "# Combine the training and test datasets\n",
    "syndata = pd.concat([train_syndata, test_syndata], ignore_index=True)\n",
    "print(\"Combined Synthetic Data shape:\", syndata.shape)"
   ]
  },
  {
   "cell_type": "code",
   "execution_count": 16,
   "id": "8455021a",
   "metadata": {},
   "outputs": [
    {
     "name": "stdout",
     "output_type": "stream",
     "text": [
      "Combined Synthetic Data shape: (1000000, 17)\n"
     ]
    }
   ],
   "source": [
    "# Remove the \"id\" column from the Synthetic Data dataframe if it exists\n",
    "\n",
    "if 'id' in syndata.columns:\n",
    "    syndata = syndata.drop(columns=['id'])\n",
    "\n",
    "print(\"Combined Synthetic Data shape:\", syndata.shape)"
   ]
  },
  {
   "cell_type": "code",
   "execution_count": 38,
   "id": "38a362a0",
   "metadata": {},
   "outputs": [
    {
     "name": "stdout",
     "output_type": "stream",
     "text": [
      "Test Full Data shape: (9043, 17)\n"
     ]
    }
   ],
   "source": [
    "# Take 20% of the full data as test set\n",
    "_, test_fulldata = train_test_split(fulldata, test_size=0.2, random_state=42)\n",
    "print(\"Test Full Data shape:\", test_fulldata.shape)"
   ]
  },
  {
   "cell_type": "code",
   "execution_count": 39,
   "id": "1034efa6",
   "metadata": {},
   "outputs": [
    {
     "name": "stdout",
     "output_type": "stream",
     "text": [
      "Column 'y': syndata dtype = int64, test_fulldata dtype = object\n"
     ]
    }
   ],
   "source": [
    "# Compare the feature types of both datasets\n",
    "# for each feature name in both datasets that match, check if they have same dtype\n",
    "# or inferred same dtype\n",
    "# print only the differerences\n",
    "\n",
    "for col in syndata.columns:\n",
    "    if col in test_fulldata.columns:\n",
    "        if syndata[col].dtype != test_fulldata[col].dtype:\n",
    "            print(f\"Column '{col}': syndata dtype = {syndata[col].dtype}, test_fulldata dtype = {test_fulldata[col].dtype}\")"
   ]
  },
  {
   "cell_type": "code",
   "execution_count": 40,
   "id": "65bf18f9",
   "metadata": {},
   "outputs": [
    {
     "name": "stdout",
     "output_type": "stream",
     "text": [
      "Synthetic Data - Numerical: 8, Categorical: 9\n",
      "Test Full Data - Numerical: 7, Categorical: 10\n"
     ]
    }
   ],
   "source": [
    "# Count the number of numerical and categorical feature types in the synthetic dataset\n",
    "\n",
    "syndata_numerical = syndata.select_dtypes(include=['int64', 'float64']).columns\n",
    "syndata_categorical = syndata.select_dtypes(include=['object', 'category']).columns\n",
    "test_fulldata_numerical = test_fulldata.select_dtypes(include=['int64', 'float64']).columns\n",
    "test_fulldata_categorical = test_fulldata.select_dtypes(include=['object', 'category']).columns\n",
    "\n",
    "print(f\"Synthetic Data - Numerical: {len(syndata_numerical)}, Categorical: {len(syndata_categorical)}\")\n",
    "print(f\"Test Full Data - Numerical: {len(test_fulldata_numerical)}, Categorical: {len(test_fulldata_categorical)}\")"
   ]
  },
  {
   "cell_type": "code",
   "execution_count": 41,
   "id": "fb5d2243",
   "metadata": {},
   "outputs": [
    {
     "name": "stdout",
     "output_type": "stream",
     "text": [
      "Columns with mismatched types between synthetic and full data:\n",
      "y: Synthetic = numerical, Full = categorical\n"
     ]
    }
   ],
   "source": [
    "# Find columns where the type (numerical/categorical) does not match between synthetic and full data\n",
    "\n",
    "mismatched_columns = []\n",
    "\n",
    "for col in syndata.columns:\n",
    "    if col in test_fulldata.columns:\n",
    "        syndata_type = 'numerical' if syndata[col].dtype in ['int64', 'float64'] else 'categorical'\n",
    "        test_fulldata_type = 'numerical' if test_fulldata[col].dtype in ['int64', 'float64'] else 'categorical'\n",
    "        if syndata_type != test_fulldata_type:\n",
    "            mismatched_columns.append((col, syndata_type, test_fulldata_type))\n",
    "\n",
    "if mismatched_columns:\n",
    "    print(\"Columns with mismatched types between synthetic and full data:\")\n",
    "    for col, syn_type, full_type in mismatched_columns:\n",
    "        print(f\"{col}: Synthetic = {syn_type}, Full = {full_type}\")\n",
    "else:\n",
    "    print(\"No mismatched columns found.\")"
   ]
  },
  {
   "cell_type": "code",
   "execution_count": 42,
   "id": "d83046cc",
   "metadata": {},
   "outputs": [
    {
     "name": "stdout",
     "output_type": "stream",
     "text": [
      "   column Synthetic dtype Full dtype\n",
      "      age           int64      int64\n",
      "  balance           int64      int64\n",
      " campaign           int64      int64\n",
      "  contact          object     object\n",
      "      day           int64      int64\n",
      "  default          object     object\n",
      " duration           int64      int64\n",
      "education          object     object\n",
      "  housing          object     object\n",
      "      job          object     object\n",
      "     loan          object     object\n",
      "  marital          object     object\n",
      "    month          object     object\n",
      "    pdays           int64      int64\n",
      " poutcome          object     object\n",
      " previous           int64      int64\n",
      "        y           int64     object\n"
     ]
    }
   ],
   "source": [
    "# Print column names and data types side by side for quick comparison\n",
    "\n",
    "syn_types = syndata.dtypes.to_frame('Synthetic dtype')\n",
    "full_types = test_fulldata.dtypes.to_frame('Full dtype')\n",
    "comparison = syn_types.join(full_types, how='outer')\n",
    "print(comparison.reset_index().rename(columns={'index': 'column'}).to_string(index=False))"
   ]
  },
  {
   "cell_type": "code",
   "execution_count": 43,
   "id": "159a1422",
   "metadata": {},
   "outputs": [
    {
     "name": "stdout",
     "output_type": "stream",
     "text": [
      "Distinct values in 'y' and their counts (Synthetic Data):\n",
      "    count  proportion\n",
      "y                    \n",
      "0  909512    0.909512\n",
      "1   90488    0.090488\n",
      "Distinct values in 'y' and their counts (Test Full Data):\n",
      "     count  proportion\n",
      "y                     \n",
      "no    7952    0.879354\n",
      "yes   1091    0.120646\n"
     ]
    }
   ],
   "source": [
    "print(\"Distinct values in 'y' and their counts (Synthetic Data):\")\n",
    "print(pd.concat([syndata['y'].value_counts(), syndata['y'].value_counts(normalize=True)], axis=1))\n",
    "print(\"Distinct values in 'y' and their counts (Test Full Data):\")\n",
    "print(pd.concat([test_fulldata['y'].value_counts(), test_fulldata['y'].value_counts(normalize=True)],axis=1))"
   ]
  },
  {
   "cell_type": "code",
   "execution_count": 44,
   "id": "090c0fb1",
   "metadata": {},
   "outputs": [
    {
     "name": "stdout",
     "output_type": "stream",
     "text": [
      "Distinct values in 'y' and their counts (Synthetic Data):\n",
      "    count  proportion\n",
      "y                    \n",
      "0  909512    0.909512\n",
      "1   90488    0.090488\n",
      "Distinct values in 'y' and their counts (Test Full Data):\n",
      "   count  proportion\n",
      "y                   \n",
      "0   7952    0.879354\n",
      "1   1091    0.120646\n"
     ]
    }
   ],
   "source": [
    "# Convert \"no\" to 0 and \"yes\" to 1 in the 'y' column of test_fulldata\n",
    "\n",
    "if 'y' in test_fulldata.columns:\n",
    "    test_fulldata['y'] = test_fulldata['y'].map({'no': 0, 'yes': 1})\n",
    "\n",
    "print(\"Distinct values in 'y' and their counts (Synthetic Data):\")\n",
    "print(pd.concat([syndata['y'].value_counts(), syndata['y'].value_counts(normalize=True)], axis=1))\n",
    "print(\"Distinct values in 'y' and their counts (Test Full Data):\")\n",
    "print(pd.concat([test_fulldata['y'].value_counts(), test_fulldata['y'].value_counts(normalize=True)],axis=1))"
   ]
  },
  {
   "cell_type": "code",
   "execution_count": 45,
   "id": "83f86b9c",
   "metadata": {},
   "outputs": [
    {
     "data": {
      "image/png": "[encoded data removed]",
      "text/plain": [
       "<Figure size 1000x400 with 2 Axes>"
      ]
     },
     "metadata": {},
     "output_type": "display_data"
    }
   ],
   "source": [
    "# Plot the distribution of \"y\" variable side by side for synthetic and test full data\n",
    "\n",
    "import matplotlib.pyplot as plt\n",
    "\n",
    "fig, axes = plt.subplots(1, 2, figsize=(10, 4))\n",
    "\n",
    "syndata['y'].value_counts(normalize=True).plot(kind='bar', ax=axes[0], color='skyblue', title='Synthetic Data y Distribution')\n",
    "axes[0].set_xlabel('y')\n",
    "axes[0].set_ylabel('Proportion')\n",
    "\n",
    "test_fulldata['y'].value_counts(normalize=True).plot(kind='bar', ax=axes[1], color='salmon', title='Test Full Data y Distribution')\n",
    "axes[1].set_xlabel('y')\n",
    "axes[1].set_ylabel('Proportion')\n",
    "\n",
    "plt.tight_layout()\n",
    "plt.show()"
   ]
  },
  {
   "cell_type": "code",
   "execution_count": 46,
   "id": "f5224b94",
   "metadata": {},
   "outputs": [
    {
     "name": "stdout",
     "output_type": "stream",
     "text": [
      "Features with missing values in syndata (excluding 'y'):\n",
      "Series([], dtype: int64)\n"
     ]
    }
   ],
   "source": [
    "# Explore missing values in syndata, ignoring 'y' and features without missing values\n",
    "\n",
    "missing = syndata.drop(columns=['y'], errors='ignore').isnull().sum()\n",
    "missing = missing[missing > 0]\n",
    "print(\"Features with missing values in syndata (excluding 'y'):\")\n",
    "print(missing)"
   ]
  },
  {
   "cell_type": "code",
   "execution_count": 48,
   "id": "534048c8",
   "metadata": {},
   "outputs": [
    {
     "name": "stdout",
     "output_type": "stream",
     "text": [
      "Summary statistics for numerical features (synthetic vs test full data):\n",
      "          mean_synthetic  std_synthetic  min_synthetic  max_synthetic  \\\n",
      "age            40.927879      10.094523           18.0           95.0   \n",
      "balance      1202.407136    2812.750998        -8019.0        99717.0   \n",
      "day            16.116924       8.252748            1.0           31.0   \n",
      "duration      256.007423     272.268420            1.0         4918.0   \n",
      "campaign        2.576143       2.716302            1.0           63.0   \n",
      "pdays          22.379557      77.219149           -1.0          871.0   \n",
      "previous        0.299841       1.348254            0.0          200.0   \n",
      "y               0.090488       0.286880            0.0            1.0   \n",
      "\n",
      "            mean_test     std_test  min_test  max_test  mean_diff_pct  \n",
      "age         40.957757    10.620892      18.0      93.0       0.000729  \n",
      "balance   1367.175163  3130.151376   -2712.0   98417.0       0.120517  \n",
      "day         15.761141     8.309233       1.0      31.0       0.022573  \n",
      "duration   263.250028   260.038550       0.0    3183.0       0.027512  \n",
      "campaign     2.756607     3.007866       1.0      55.0       0.065466  \n",
      "pdays       40.268827   100.218718      -1.0     842.0       0.444246  \n",
      "previous     0.580560     2.012350       0.0      58.0       0.483531  \n",
      "y            0.120646     0.325733       0.0       1.0       0.249970  \n",
      "\n",
      "Features with >10% difference in mean between synthetic and test full data:\n",
      "          mean_synthetic    mean_test  mean_diff_pct\n",
      "balance      1202.407136  1367.175163       0.120517\n",
      "pdays          22.379557    40.268827       0.444246\n",
      "previous        0.299841     0.580560       0.483531\n",
      "y               0.090488     0.120646       0.249970\n"
     ]
    }
   ],
   "source": [
    "# Compare summary statistics between synthetic data and test full data for numerical features\n",
    "# Highlight statistically significant deviations\n",
    "\n",
    "import numpy as np\n",
    "\n",
    "numerical_cols = [col for col in syndata.select_dtypes(include=['int64', 'float64']).columns if col in test_fulldata.columns]\n",
    "\n",
    "syn_stats = syndata[numerical_cols].describe().T\n",
    "test_stats = test_fulldata[numerical_cols].describe().T\n",
    "\n",
    "comparison = syn_stats[['mean', 'std', 'min', 'max']].join(\n",
    "    test_stats[['mean', 'std', 'min', 'max']],\n",
    "    lsuffix='_synthetic', rsuffix='_test'\n",
    ")\n",
    "\n",
    "# Highlight columns where mean differs by more than 10% (relative difference)\n",
    "comparison['mean_diff_pct'] = np.abs(comparison['mean_synthetic'] - comparison['mean_test']) / (comparison['mean_test'] + 1e-9)\n",
    "significant = comparison[comparison['mean_diff_pct'] > 0.1]\n",
    "\n",
    "print(\"Summary statistics for numerical features (synthetic vs test full data):\")\n",
    "print(comparison)\n",
    "\n",
    "if not significant.empty:\n",
    "    print(\"\\nFeatures with >10% difference in mean between synthetic and test full data:\")\n",
    "    print(significant[['mean_synthetic', 'mean_test', 'mean_diff_pct']])\n",
    "else:\n",
    "    print(\"\\nNo features with >10% difference in mean found.\")"
   ]
  }
 ],
 "metadata": {
  "kernelspec": {
   "display_name": "base",
   "language": "python",
   "name": "python3"
  },
  "language_info": {
   "codemirror_mode": {
    "name": "ipython",
    "version": 3
   },
   "file_extension": ".py",
   "mimetype": "text/x-python",
   "name": "python",
   "nbconvert_exporter": "python",
   "pygments_lexer": "ipython3",
   "version": "3.12.7"
  }
 },
 "nbformat": 4,
 "nbformat_minor": 5
}
