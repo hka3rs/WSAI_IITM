{
 "cells": [
  {
   "cell_type": "code",
   "execution_count": 2,
   "id": "debc7408",
   "metadata": {},
   "outputs": [
    {
     "name": "stdout",
     "output_type": "stream",
     "text": [
      "(4809, 26)\n"
     ]
    }
   ],
   "source": [
    "## Load the dataset\n",
    "import pandas as pd\n",
    "df = pd.read_excel(r'./tourism_dataset.xlsx')\n",
    "print(df.shape)"
   ]
  },
  {
   "cell_type": "markdown",
   "id": "ee1fe751",
   "metadata": {},
   "source": [
    "Use describe() for numerical summary (mean, median, min, max)"
   ]
  },
  {
   "cell_type": "code",
   "execution_count": 3,
   "id": "6842cd51",
   "metadata": {},
   "outputs": [
    {
     "name": "stdout",
     "output_type": "stream",
     "text": [
      "Index(['S.No', 'ID', 'country', 'continent', 'age_group', 'travel_with',\n",
      "       'total_female', 'total_male', 'Gender', 'purpose', 'main_activity',\n",
      "       'info_source', 'tour_arrangement', 'package_transport_int',\n",
      "       'package_accomodation', 'package_food', 'package_transport_tz',\n",
      "       'package_sightseeing', 'package_guided_tour', 'package_insurance',\n",
      "       'night_mainland', 'night_zanzibar', 'payment_mode', 'first_trip_tz',\n",
      "       'most_impressing', 'total_cost'],\n",
      "      dtype='object')\n",
      "S.No                       int64\n",
      "ID                        object\n",
      "country                   object\n",
      "continent                 object\n",
      "age_group                 object\n",
      "travel_with               object\n",
      "total_female               int64\n",
      "total_male                 int64\n",
      "Gender                    object\n",
      "purpose                   object\n",
      "main_activity             object\n",
      "info_source               object\n",
      "tour_arrangement          object\n",
      "package_transport_int     object\n",
      "package_accomodation      object\n",
      "package_food              object\n",
      "package_transport_tz      object\n",
      "package_sightseeing       object\n",
      "package_guided_tour       object\n",
      "package_insurance         object\n",
      "night_mainland            object\n",
      "night_zanzibar             int64\n",
      "payment_mode              object\n",
      "first_trip_tz             object\n",
      "most_impressing           object\n",
      "total_cost               float64\n",
      "dtype: object\n",
      "              S.No  total_female   total_male  night_zanzibar    total_cost\n",
      "count  4809.000000   4809.000000  4809.000000     4809.000000  4.792000e+03\n",
      "mean   2403.998752      0.931587     1.013308        2.306093  8.122718e+06\n",
      "std    1388.384398      1.288185     1.137504        4.227943  1.223612e+07\n",
      "min       0.000000      0.000000     0.000000        0.000000  4.900000e+04\n",
      "25%    1202.000000      0.000000     1.000000        0.000000  8.250206e+05\n",
      "50%    2404.000000      1.000000     1.000000        0.000000  3.397875e+06\n",
      "75%    3606.000000      1.000000     1.000000        4.000000  9.945000e+06\n",
      "max    4808.000000     49.000000    44.000000       61.000000  9.953288e+07\n"
     ]
    }
   ],
   "source": [
    "print(df.columns)\n",
    "print(df.dtypes)\n",
    "print(df.describe())"
   ]
  },
  {
   "cell_type": "code",
   "execution_count": 13,
   "id": "2c263df2",
   "metadata": {},
   "outputs": [
    {
     "name": "stdout",
     "output_type": "stream",
     "text": [
      "S.No                              int64\n",
      "ID                               object\n",
      "country                  string[python]\n",
      "continent                string[python]\n",
      "age_group                string[python]\n",
      "travel_with              string[python]\n",
      "total_female                      int64\n",
      "total_male                        int64\n",
      "Gender                   string[python]\n",
      "purpose                  string[python]\n",
      "main_activity            string[python]\n",
      "info_source              string[python]\n",
      "tour_arrangement         string[python]\n",
      "package_transport_int    string[python]\n",
      "package_accomodation             object\n",
      "package_food             string[python]\n",
      "package_transport_tz     string[python]\n",
      "package_sightseeing      string[python]\n",
      "package_guided_tour              object\n",
      "package_insurance        string[python]\n",
      "night_mainland                   object\n",
      "night_zanzibar                    int64\n",
      "payment_mode             string[python]\n",
      "first_trip_tz            string[python]\n",
      "most_impressing          string[python]\n",
      "total_cost                      float64\n",
      "dtype: object\n"
     ]
    }
   ],
   "source": [
    "#convert some features to correct data types\n",
    "str_cols_list = ['country', 'continent', 'age_group', 'travel_with', 'Gender', 'purpose', 'main_activity', 'info_source', 'tour_arrangement', \n",
    "                 'package_transport_int', 'package_food', 'package_transport_tz', 'package_sightseeing', 'package_insurance', 'payment_mode',\n",
    "                 'first_trip_tz', 'most_impressing', 'ID']\n",
    "int64_cols_list = ['total_female', 'total_male', 'night_mainland', 'night_zanzibar']\n",
    "float64_cols_list = ['total_cost']\n",
    "print(df.dtypes)"
   ]
  },
  {
   "cell_type": "code",
   "execution_count": 17,
   "id": "6cfece16",
   "metadata": {},
   "outputs": [
    {
     "name": "stdout",
     "output_type": "stream",
     "text": [
      "          country continent age_group          travel_with         Gender  \\\n",
      "0      swizerland    Europe     45-64  Friends / Relatives  Male & Female   \n",
      "1  UNITED KINGDOM    Europe     25-44                  nan        Female    \n",
      "2  UNITED KINGDOM    Europe     25-44                Alone           Male   \n",
      "3  UNITED KINGDOM    Europe     25-44               Spouse  Male & Female   \n",
      "4           CHINA      asia     25-44                  nan         Female   \n",
      "\n",
      "                          purpose     main_activity  \\\n",
      "0              leisure & holidays  Wildlife tourism   \n",
      "1             Leisure and Holiday  Cultural tourism   \n",
      "2  Visiting Friends and Relatives  Cultural tourism   \n",
      "3            Leisure and Holidays  Wildlife tourism   \n",
      "4            Leisure and Holidays  Wildlife tourism   \n",
      "\n",
      "                    info_source tour_arrangement package_transport_int  \\\n",
      "0            Friends, relatives      Independent                    No   \n",
      "1                        others      Independent                    No   \n",
      "2            Friends, relatives      Independent                    No   \n",
      "3  Travel, agent, tour operator     Package Tour                    No   \n",
      "4  Travel, agent, tour operator      Independent                    No   \n",
      "\n",
      "  package_food package_transport_tz package_sightseeing package_insurance  \\\n",
      "0           No                   No                  No                No   \n",
      "1           No                   No                  No                No   \n",
      "2           No                   No                  No                No   \n",
      "3          Yes                  Yes                 Yes                No   \n",
      "4           No                   No                  No                No   \n",
      "\n",
      "  payment_mode first_trip_tz                       most_impressing         ID  \n",
      "0         Cash            No                       Friendly People     tour_0  \n",
      "1         Cash           Yes  Wonderful Country, Landscape, Nature    tour_10  \n",
      "2         Cash            No                  Excellent Experience  tour_1000  \n",
      "3         Cash           Yes                       Friendly People  tour_1002  \n",
      "4         Cash           Yes                           No comments  tour_1004  \n"
     ]
    }
   ],
   "source": [
    "#print few lines of the dataframe\n",
    "print(df[str_cols_list].head())"
   ]
  },
  {
   "cell_type": "code",
   "execution_count": 18,
   "id": "c41d02a5",
   "metadata": {},
   "outputs": [
    {
     "name": "stdout",
     "output_type": "stream",
     "text": [
      "   total_female  total_male night_mainland  night_zanzibar\n",
      "0             1           1             13               0\n",
      "1             1           0             14               7\n",
      "2             0           1              1              31\n",
      "3             1           1             11               0\n",
      "4             1           0              7               4\n"
     ]
    }
   ],
   "source": [
    "print(df[int64_cols_list].head())"
   ]
  },
  {
   "cell_type": "code",
   "execution_count": 16,
   "id": "d1f75763",
   "metadata": {},
   "outputs": [
    {
     "ename": "ValueError",
     "evalue": "invalid literal for int() with base 10: '1 day'",
     "output_type": "error",
     "traceback": [
      "\u001b[1;31m---------------------------------------------------------------------------\u001b[0m",
      "\u001b[1;31mValueError\u001b[0m                                Traceback (most recent call last)",
      "Cell \u001b[1;32mIn[16], line 5\u001b[0m\n\u001b[0;32m      2\u001b[0m     df[x] \u001b[38;5;241m=\u001b[39m df[x]\u001b[38;5;241m.\u001b[39mastype(pd\u001b[38;5;241m.\u001b[39mStringDtype())\n\u001b[0;32m      4\u001b[0m \u001b[38;5;28;01mfor\u001b[39;00m x \u001b[38;5;129;01min\u001b[39;00m int64_cols_list:\n\u001b[1;32m----> 5\u001b[0m     df[x] \u001b[38;5;241m=\u001b[39m df[x]\u001b[38;5;241m.\u001b[39mastype(\u001b[38;5;124m'\u001b[39m\u001b[38;5;124mint64\u001b[39m\u001b[38;5;124m'\u001b[39m)\n\u001b[0;32m      7\u001b[0m \u001b[38;5;28;01mfor\u001b[39;00m x \u001b[38;5;129;01min\u001b[39;00m float64_cols_list:\n\u001b[0;32m      8\u001b[0m     df[x] \u001b[38;5;241m=\u001b[39m df[x]\u001b[38;5;241m.\u001b[39mastype(\u001b[38;5;124m'\u001b[39m\u001b[38;5;124mfloat64\u001b[39m\u001b[38;5;124m'\u001b[39m)\n",
      "File \u001b[1;32md:\\Users\\Archon\\anaconda3\\Lib\\site-packages\\pandas\\core\\generic.py:6643\u001b[0m, in \u001b[0;36mNDFrame.astype\u001b[1;34m(self, dtype, copy, errors)\u001b[0m\n\u001b[0;32m   6637\u001b[0m     results \u001b[38;5;241m=\u001b[39m [\n\u001b[0;32m   6638\u001b[0m         ser\u001b[38;5;241m.\u001b[39mastype(dtype, copy\u001b[38;5;241m=\u001b[39mcopy, errors\u001b[38;5;241m=\u001b[39merrors) \u001b[38;5;28;01mfor\u001b[39;00m _, ser \u001b[38;5;129;01min\u001b[39;00m \u001b[38;5;28mself\u001b[39m\u001b[38;5;241m.\u001b[39mitems()\n\u001b[0;32m   6639\u001b[0m     ]\n\u001b[0;32m   6641\u001b[0m \u001b[38;5;28;01melse\u001b[39;00m:\n\u001b[0;32m   6642\u001b[0m     \u001b[38;5;66;03m# else, only a single dtype is given\u001b[39;00m\n\u001b[1;32m-> 6643\u001b[0m     new_data \u001b[38;5;241m=\u001b[39m \u001b[38;5;28mself\u001b[39m\u001b[38;5;241m.\u001b[39m_mgr\u001b[38;5;241m.\u001b[39mastype(dtype\u001b[38;5;241m=\u001b[39mdtype, copy\u001b[38;5;241m=\u001b[39mcopy, errors\u001b[38;5;241m=\u001b[39merrors)\n\u001b[0;32m   6644\u001b[0m     res \u001b[38;5;241m=\u001b[39m \u001b[38;5;28mself\u001b[39m\u001b[38;5;241m.\u001b[39m_constructor_from_mgr(new_data, axes\u001b[38;5;241m=\u001b[39mnew_data\u001b[38;5;241m.\u001b[39maxes)\n\u001b[0;32m   6645\u001b[0m     \u001b[38;5;28;01mreturn\u001b[39;00m res\u001b[38;5;241m.\u001b[39m__finalize__(\u001b[38;5;28mself\u001b[39m, method\u001b[38;5;241m=\u001b[39m\u001b[38;5;124m\"\u001b[39m\u001b[38;5;124mastype\u001b[39m\u001b[38;5;124m\"\u001b[39m)\n",
      "File \u001b[1;32md:\\Users\\Archon\\anaconda3\\Lib\\site-packages\\pandas\\core\\internals\\managers.py:430\u001b[0m, in \u001b[0;36mBaseBlockManager.astype\u001b[1;34m(self, dtype, copy, errors)\u001b[0m\n\u001b[0;32m    427\u001b[0m \u001b[38;5;28;01melif\u001b[39;00m using_copy_on_write():\n\u001b[0;32m    428\u001b[0m     copy \u001b[38;5;241m=\u001b[39m \u001b[38;5;28;01mFalse\u001b[39;00m\n\u001b[1;32m--> 430\u001b[0m \u001b[38;5;28;01mreturn\u001b[39;00m \u001b[38;5;28mself\u001b[39m\u001b[38;5;241m.\u001b[39mapply(\n\u001b[0;32m    431\u001b[0m     \u001b[38;5;124m\"\u001b[39m\u001b[38;5;124mastype\u001b[39m\u001b[38;5;124m\"\u001b[39m,\n\u001b[0;32m    432\u001b[0m     dtype\u001b[38;5;241m=\u001b[39mdtype,\n\u001b[0;32m    433\u001b[0m     copy\u001b[38;5;241m=\u001b[39mcopy,\n\u001b[0;32m    434\u001b[0m     errors\u001b[38;5;241m=\u001b[39merrors,\n\u001b[0;32m    435\u001b[0m     using_cow\u001b[38;5;241m=\u001b[39musing_copy_on_write(),\n\u001b[0;32m    436\u001b[0m )\n",
      "File \u001b[1;32md:\\Users\\Archon\\anaconda3\\Lib\\site-packages\\pandas\\core\\internals\\managers.py:363\u001b[0m, in \u001b[0;36mBaseBlockManager.apply\u001b[1;34m(self, f, align_keys, **kwargs)\u001b[0m\n\u001b[0;32m    361\u001b[0m         applied \u001b[38;5;241m=\u001b[39m b\u001b[38;5;241m.\u001b[39mapply(f, \u001b[38;5;241m*\u001b[39m\u001b[38;5;241m*\u001b[39mkwargs)\n\u001b[0;32m    362\u001b[0m     \u001b[38;5;28;01melse\u001b[39;00m:\n\u001b[1;32m--> 363\u001b[0m         applied \u001b[38;5;241m=\u001b[39m \u001b[38;5;28mgetattr\u001b[39m(b, f)(\u001b[38;5;241m*\u001b[39m\u001b[38;5;241m*\u001b[39mkwargs)\n\u001b[0;32m    364\u001b[0m     result_blocks \u001b[38;5;241m=\u001b[39m extend_blocks(applied, result_blocks)\n\u001b[0;32m    366\u001b[0m out \u001b[38;5;241m=\u001b[39m \u001b[38;5;28mtype\u001b[39m(\u001b[38;5;28mself\u001b[39m)\u001b[38;5;241m.\u001b[39mfrom_blocks(result_blocks, \u001b[38;5;28mself\u001b[39m\u001b[38;5;241m.\u001b[39maxes)\n",
      "File \u001b[1;32md:\\Users\\Archon\\anaconda3\\Lib\\site-packages\\pandas\\core\\internals\\blocks.py:758\u001b[0m, in \u001b[0;36mBlock.astype\u001b[1;34m(self, dtype, copy, errors, using_cow, squeeze)\u001b[0m\n\u001b[0;32m    755\u001b[0m         \u001b[38;5;28;01mraise\u001b[39;00m \u001b[38;5;167;01mValueError\u001b[39;00m(\u001b[38;5;124m\"\u001b[39m\u001b[38;5;124mCan not squeeze with more than one column.\u001b[39m\u001b[38;5;124m\"\u001b[39m)\n\u001b[0;32m    756\u001b[0m     values \u001b[38;5;241m=\u001b[39m values[\u001b[38;5;241m0\u001b[39m, :]  \u001b[38;5;66;03m# type: ignore[call-overload]\u001b[39;00m\n\u001b[1;32m--> 758\u001b[0m new_values \u001b[38;5;241m=\u001b[39m astype_array_safe(values, dtype, copy\u001b[38;5;241m=\u001b[39mcopy, errors\u001b[38;5;241m=\u001b[39merrors)\n\u001b[0;32m    760\u001b[0m new_values \u001b[38;5;241m=\u001b[39m maybe_coerce_values(new_values)\n\u001b[0;32m    762\u001b[0m refs \u001b[38;5;241m=\u001b[39m \u001b[38;5;28;01mNone\u001b[39;00m\n",
      "File \u001b[1;32md:\\Users\\Archon\\anaconda3\\Lib\\site-packages\\pandas\\core\\dtypes\\astype.py:237\u001b[0m, in \u001b[0;36mastype_array_safe\u001b[1;34m(values, dtype, copy, errors)\u001b[0m\n\u001b[0;32m    234\u001b[0m     dtype \u001b[38;5;241m=\u001b[39m dtype\u001b[38;5;241m.\u001b[39mnumpy_dtype\n\u001b[0;32m    236\u001b[0m \u001b[38;5;28;01mtry\u001b[39;00m:\n\u001b[1;32m--> 237\u001b[0m     new_values \u001b[38;5;241m=\u001b[39m astype_array(values, dtype, copy\u001b[38;5;241m=\u001b[39mcopy)\n\u001b[0;32m    238\u001b[0m \u001b[38;5;28;01mexcept\u001b[39;00m (\u001b[38;5;167;01mValueError\u001b[39;00m, \u001b[38;5;167;01mTypeError\u001b[39;00m):\n\u001b[0;32m    239\u001b[0m     \u001b[38;5;66;03m# e.g. _astype_nansafe can fail on object-dtype of strings\u001b[39;00m\n\u001b[0;32m    240\u001b[0m     \u001b[38;5;66;03m#  trying to convert to float\u001b[39;00m\n\u001b[0;32m    241\u001b[0m     \u001b[38;5;28;01mif\u001b[39;00m errors \u001b[38;5;241m==\u001b[39m \u001b[38;5;124m\"\u001b[39m\u001b[38;5;124mignore\u001b[39m\u001b[38;5;124m\"\u001b[39m:\n",
      "File \u001b[1;32md:\\Users\\Archon\\anaconda3\\Lib\\site-packages\\pandas\\core\\dtypes\\astype.py:182\u001b[0m, in \u001b[0;36mastype_array\u001b[1;34m(values, dtype, copy)\u001b[0m\n\u001b[0;32m    179\u001b[0m     values \u001b[38;5;241m=\u001b[39m values\u001b[38;5;241m.\u001b[39mastype(dtype, copy\u001b[38;5;241m=\u001b[39mcopy)\n\u001b[0;32m    181\u001b[0m \u001b[38;5;28;01melse\u001b[39;00m:\n\u001b[1;32m--> 182\u001b[0m     values \u001b[38;5;241m=\u001b[39m _astype_nansafe(values, dtype, copy\u001b[38;5;241m=\u001b[39mcopy)\n\u001b[0;32m    184\u001b[0m \u001b[38;5;66;03m# in pandas we don't store numpy str dtypes, so convert to object\u001b[39;00m\n\u001b[0;32m    185\u001b[0m \u001b[38;5;28;01mif\u001b[39;00m \u001b[38;5;28misinstance\u001b[39m(dtype, np\u001b[38;5;241m.\u001b[39mdtype) \u001b[38;5;129;01mand\u001b[39;00m \u001b[38;5;28missubclass\u001b[39m(values\u001b[38;5;241m.\u001b[39mdtype\u001b[38;5;241m.\u001b[39mtype, \u001b[38;5;28mstr\u001b[39m):\n",
      "File \u001b[1;32md:\\Users\\Archon\\anaconda3\\Lib\\site-packages\\pandas\\core\\dtypes\\astype.py:133\u001b[0m, in \u001b[0;36m_astype_nansafe\u001b[1;34m(arr, dtype, copy, skipna)\u001b[0m\n\u001b[0;32m    129\u001b[0m     \u001b[38;5;28;01mraise\u001b[39;00m \u001b[38;5;167;01mValueError\u001b[39;00m(msg)\n\u001b[0;32m    131\u001b[0m \u001b[38;5;28;01mif\u001b[39;00m copy \u001b[38;5;129;01mor\u001b[39;00m arr\u001b[38;5;241m.\u001b[39mdtype \u001b[38;5;241m==\u001b[39m \u001b[38;5;28mobject\u001b[39m \u001b[38;5;129;01mor\u001b[39;00m dtype \u001b[38;5;241m==\u001b[39m \u001b[38;5;28mobject\u001b[39m:\n\u001b[0;32m    132\u001b[0m     \u001b[38;5;66;03m# Explicit copy, or required since NumPy can't view from / to object.\u001b[39;00m\n\u001b[1;32m--> 133\u001b[0m     \u001b[38;5;28;01mreturn\u001b[39;00m arr\u001b[38;5;241m.\u001b[39mastype(dtype, copy\u001b[38;5;241m=\u001b[39m\u001b[38;5;28;01mTrue\u001b[39;00m)\n\u001b[0;32m    135\u001b[0m \u001b[38;5;28;01mreturn\u001b[39;00m arr\u001b[38;5;241m.\u001b[39mastype(dtype, copy\u001b[38;5;241m=\u001b[39mcopy)\n",
      "\u001b[1;31mValueError\u001b[0m: invalid literal for int() with base 10: '1 day'"
     ]
    }
   ],
   "source": [
    "for x in str_cols_list:\n",
    "    df[x] = df[x].astype(pd.StringDtype())\n",
    "\n",
    "for x in int64_cols_list:\n",
    "    df[x] = df[x].astype('int64')\n",
    "\n",
    "for x in float64_cols_list:\n",
    "    df[x] = df[x].astype('float64')\n",
    "\n",
    "print(df.dtypes)"
   ]
  }
 ],
 "metadata": {
  "kernelspec": {
   "display_name": "base",
   "language": "python",
   "name": "python3"
  },
  "language_info": {
   "codemirror_mode": {
    "name": "ipython",
    "version": 3
   },
   "file_extension": ".py",
   "mimetype": "text/x-python",
   "name": "python",
   "nbconvert_exporter": "python",
   "pygments_lexer": "ipython3",
   "version": "3.12.7"
  }
 },
 "nbformat": 4,
 "nbformat_minor": 5
}
